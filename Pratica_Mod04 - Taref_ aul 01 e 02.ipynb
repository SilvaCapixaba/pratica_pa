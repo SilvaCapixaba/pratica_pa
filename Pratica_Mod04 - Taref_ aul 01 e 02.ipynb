{
 "cells": [
  {
   "cell_type": "markdown",
   "metadata": {},
   "source": [
    "# Tarefa 01\n",
    "\n",
    "- Leia os enunciados com atenção\n",
    "- Saiba que pode haver mais de uma resposta correta\n",
    "- Insira novas células de código sempre que achar necessário\n",
    "- Em caso de dúvidas, procure os tutores\n",
    "- Divirta-se :)\n",
    "\n",
    "#### 1)  crie uma série do pandas a partir de uma lista com os dados abaixo:\n",
    "\n",
    "Em um estudo sobre alteração na tempreatura global, A NASA disponibiliza dados de diferenças de de temperatura média da superfície terrestre relativos às médias de temperatura entre 1951 e 1980. Os dados originais podem ser vistos no site da NASA/GISS, e estão dispostos a cada década na tabela abaixo.\n",
    "\n",
    "|ano|anomalia termica|\n",
    "|:-:|:----:|\n",
    "| 1900 | -0.08 |\n",
    "| 1920 | -0.27 |\n",
    "| 1940 | 0.12 |\n",
    "| 1960 | -0.03 |\n",
    "| 1980 | 0.26 |\n",
    "| 2000 | 0.40 |\n",
    "| 2020 | 1.02 |\n",
    "\n",
    "Crie uma séries do Pandas a partir de uma lista com esses dados."
   ]
  },
  {
   "cell_type": "code",
   "execution_count": 5,
   "metadata": {},
   "outputs": [
    {
     "data": {
      "text/html": [
       "<div>\n",
       "<style scoped>\n",
       "    .dataframe tbody tr th:only-of-type {\n",
       "        vertical-align: middle;\n",
       "    }\n",
       "\n",
       "    .dataframe tbody tr th {\n",
       "        vertical-align: top;\n",
       "    }\n",
       "\n",
       "    .dataframe thead th {\n",
       "        text-align: right;\n",
       "    }\n",
       "</style>\n",
       "<table border=\"1\" class=\"dataframe\">\n",
       "  <thead>\n",
       "    <tr style=\"text-align: right;\">\n",
       "      <th></th>\n",
       "      <th>dados</th>\n",
       "      <th>anomalia termica</th>\n",
       "    </tr>\n",
       "  </thead>\n",
       "  <tbody>\n",
       "    <tr>\n",
       "      <th>0</th>\n",
       "      <td>1900</td>\n",
       "      <td>-0.08</td>\n",
       "    </tr>\n",
       "    <tr>\n",
       "      <th>1</th>\n",
       "      <td>1920</td>\n",
       "      <td>-0.27</td>\n",
       "    </tr>\n",
       "    <tr>\n",
       "      <th>2</th>\n",
       "      <td>1940</td>\n",
       "      <td>0.12</td>\n",
       "    </tr>\n",
       "    <tr>\n",
       "      <th>3</th>\n",
       "      <td>1960</td>\n",
       "      <td>-0.03</td>\n",
       "    </tr>\n",
       "    <tr>\n",
       "      <th>4</th>\n",
       "      <td>1980</td>\n",
       "      <td>0.26</td>\n",
       "    </tr>\n",
       "    <tr>\n",
       "      <th>5</th>\n",
       "      <td>2000</td>\n",
       "      <td>0.40</td>\n",
       "    </tr>\n",
       "    <tr>\n",
       "      <th>6</th>\n",
       "      <td>2020</td>\n",
       "      <td>1.02</td>\n",
       "    </tr>\n",
       "  </tbody>\n",
       "</table>\n",
       "</div>"
      ],
      "text/plain": [
       "   dados  anomalia termica\n",
       "0   1900             -0.08\n",
       "1   1920             -0.27\n",
       "2   1940              0.12\n",
       "3   1960             -0.03\n",
       "4   1980              0.26\n",
       "5   2000              0.40\n",
       "6   2020              1.02"
      ]
     },
     "execution_count": 5,
     "metadata": {},
     "output_type": "execute_result"
    }
   ],
   "source": [
    "import pandas as pd\n",
    "import numpy as np\n",
    "\n",
    "pd.DataFrame({'dados': [1900, 1920, 1940, 1960, 1980, 2000, 2020],\n",
    "              'anomalia termica': [-0.08, -0.27, 0.12, -0.03, 0.26, 0.40, 1.02]})\n",
    "#"
   ]
  },
  {
   "cell_type": "markdown",
   "metadata": {},
   "source": [
    "#### 2) Coloque os anos nos índices conforme a tabela."
   ]
  },
  {
   "cell_type": "code",
   "execution_count": 8,
   "metadata": {},
   "outputs": [
    {
     "data": {
      "text/html": [
       "<div>\n",
       "<style scoped>\n",
       "    .dataframe tbody tr th:only-of-type {\n",
       "        vertical-align: middle;\n",
       "    }\n",
       "\n",
       "    .dataframe tbody tr th {\n",
       "        vertical-align: top;\n",
       "    }\n",
       "\n",
       "    .dataframe thead th {\n",
       "        text-align: right;\n",
       "    }\n",
       "</style>\n",
       "<table border=\"1\" class=\"dataframe\">\n",
       "  <thead>\n",
       "    <tr style=\"text-align: right;\">\n",
       "      <th></th>\n",
       "      <th>dados</th>\n",
       "      <th>anomalia termica</th>\n",
       "    </tr>\n",
       "  </thead>\n",
       "  <tbody>\n",
       "    <tr>\n",
       "      <th>0</th>\n",
       "      <td>1900</td>\n",
       "      <td>-0.08</td>\n",
       "    </tr>\n",
       "    <tr>\n",
       "      <th>1</th>\n",
       "      <td>1920</td>\n",
       "      <td>-0.27</td>\n",
       "    </tr>\n",
       "    <tr>\n",
       "      <th>2</th>\n",
       "      <td>1940</td>\n",
       "      <td>0.12</td>\n",
       "    </tr>\n",
       "    <tr>\n",
       "      <th>3</th>\n",
       "      <td>1960</td>\n",
       "      <td>-0.03</td>\n",
       "    </tr>\n",
       "    <tr>\n",
       "      <th>4</th>\n",
       "      <td>1980</td>\n",
       "      <td>0.26</td>\n",
       "    </tr>\n",
       "    <tr>\n",
       "      <th>5</th>\n",
       "      <td>2000</td>\n",
       "      <td>0.40</td>\n",
       "    </tr>\n",
       "    <tr>\n",
       "      <th>6</th>\n",
       "      <td>2020</td>\n",
       "      <td>1.02</td>\n",
       "    </tr>\n",
       "  </tbody>\n",
       "</table>\n",
       "</div>"
      ],
      "text/plain": [
       "   dados  anomalia termica\n",
       "0   1900             -0.08\n",
       "1   1920             -0.27\n",
       "2   1940              0.12\n",
       "3   1960             -0.03\n",
       "4   1980              0.26\n",
       "5   2000              0.40\n",
       "6   2020              1.02"
      ]
     },
     "execution_count": 8,
     "metadata": {},
     "output_type": "execute_result"
    }
   ],
   "source": [
    "pd.DataFrame({'dados': [1900, 1920, 1940, 1960, 1980, 2000, 2020],\n",
    "              'anomalia termica': [-0.08, -0.27, 0.12, -0.03, 0.26, 0.40, 1.02]})\n"
   ]
  },
  {
   "cell_type": "markdown",
   "metadata": {},
   "source": [
    "#### 3) A partir do dicionário abaixo, crie uma séries do Pandas:"
   ]
  },
  {
   "cell_type": "code",
   "execution_count": 10,
   "metadata": {},
   "outputs": [
    {
     "data": {
      "text/plain": [
       "1900   -0.08\n",
       "1920   -0.27\n",
       "1940    0.12\n",
       "1960   -0.03\n",
       "1980    0.26\n",
       "2000    0.40\n",
       "2020    1.02\n",
       "dtype: float64"
      ]
     },
     "execution_count": 10,
     "metadata": {},
     "output_type": "execute_result"
    }
   ],
   "source": [
    "dic_temperaturas = {1900: -.08, 1920: -.27, 1940: .12, 1960: -.03, 1980: .26, 2000: .40, 2020: 1.02}\n",
    "\n",
    "relatorio_temperaturas = pd.Series(dic_temperaturas)\n",
    "relatorio_temperaturas\n",
    "\n"
   ]
  },
  {
   "cell_type": "markdown",
   "metadata": {},
   "source": [
    "#### 4) Transforme o ndarray abaixo em um dataframe. \n",
    "O numpy é capaz de gerar arrays n-dimensionais com números pseudo-aleatórios de acordo com uma variedade de distribuições, como no exemplo abaixo. Transforme esse nd-array em um DataFrame."
   ]
  },
  {
   "cell_type": "code",
   "execution_count": 41,
   "metadata": {},
   "outputs": [
    {
     "data": {
      "text/html": [
       "<div>\n",
       "<style scoped>\n",
       "    .dataframe tbody tr th:only-of-type {\n",
       "        vertical-align: middle;\n",
       "    }\n",
       "\n",
       "    .dataframe tbody tr th {\n",
       "        vertical-align: top;\n",
       "    }\n",
       "\n",
       "    .dataframe thead th {\n",
       "        text-align: right;\n",
       "    }\n",
       "</style>\n",
       "<table border=\"1\" class=\"dataframe\">\n",
       "  <thead>\n",
       "    <tr style=\"text-align: right;\">\n",
       "      <th></th>\n",
       "      <th>0</th>\n",
       "      <th>1</th>\n",
       "      <th>2</th>\n",
       "    </tr>\n",
       "  </thead>\n",
       "  <tbody>\n",
       "    <tr>\n",
       "      <th>0</th>\n",
       "      <td>89.514470</td>\n",
       "      <td>85.799821</td>\n",
       "      <td>82.937298</td>\n",
       "    </tr>\n",
       "    <tr>\n",
       "      <th>1</th>\n",
       "      <td>119.507754</td>\n",
       "      <td>94.903478</td>\n",
       "      <td>95.619257</td>\n",
       "    </tr>\n",
       "    <tr>\n",
       "      <th>2</th>\n",
       "      <td>87.472046</td>\n",
       "      <td>107.774904</td>\n",
       "      <td>83.861022</td>\n",
       "    </tr>\n",
       "    <tr>\n",
       "      <th>3</th>\n",
       "      <td>97.872597</td>\n",
       "      <td>91.045334</td>\n",
       "      <td>103.869025</td>\n",
       "    </tr>\n",
       "    <tr>\n",
       "      <th>4</th>\n",
       "      <td>94.891949</td>\n",
       "      <td>88.193678</td>\n",
       "      <td>99.718178</td>\n",
       "    </tr>\n",
       "    <tr>\n",
       "      <th>5</th>\n",
       "      <td>104.283319</td>\n",
       "      <td>100.665172</td>\n",
       "      <td>103.024719</td>\n",
       "    </tr>\n",
       "    <tr>\n",
       "      <th>6</th>\n",
       "      <td>93.656779</td>\n",
       "      <td>96.372588</td>\n",
       "      <td>93.275396</td>\n",
       "    </tr>\n",
       "    <tr>\n",
       "      <th>7</th>\n",
       "      <td>96.404468</td>\n",
       "      <td>91.868537</td>\n",
       "      <td>82.737174</td>\n",
       "    </tr>\n",
       "    <tr>\n",
       "      <th>8</th>\n",
       "      <td>101.774261</td>\n",
       "      <td>95.982191</td>\n",
       "      <td>83.698017</td>\n",
       "    </tr>\n",
       "    <tr>\n",
       "      <th>9</th>\n",
       "      <td>104.627823</td>\n",
       "      <td>90.927016</td>\n",
       "      <td>100.519454</td>\n",
       "    </tr>\n",
       "  </tbody>\n",
       "</table>\n",
       "</div>"
      ],
      "text/plain": [
       "            0           1           2\n",
       "0   89.514470   85.799821   82.937298\n",
       "1  119.507754   94.903478   95.619257\n",
       "2   87.472046  107.774904   83.861022\n",
       "3   97.872597   91.045334  103.869025\n",
       "4   94.891949   88.193678   99.718178\n",
       "5  104.283319  100.665172  103.024719\n",
       "6   93.656779   96.372588   93.275396\n",
       "7   96.404468   91.868537   82.737174\n",
       "8  101.774261   95.982191   83.698017\n",
       "9  104.627823   90.927016  100.519454"
      ]
     },
     "execution_count": 41,
     "metadata": {},
     "output_type": "execute_result"
    }
   ],
   "source": [
    "arr = np.random.normal(100, 10, (10,3))\n",
    "pd.DataFrame(arr)"
   ]
  },
  {
   "cell_type": "markdown",
   "metadata": {},
   "source": [
    "#### 5) Nomeie os índices das linhas com inteiros de 1 a 20, e as colunas com os nomes \"x1\", \"x2\", e \"x3\" respectivamente."
   ]
  },
  {
   "cell_type": "code",
   "execution_count": 44,
   "metadata": {},
   "outputs": [
    {
     "name": "stdout",
     "output_type": "stream",
     "text": [
      "    x1  x2  x3\n",
      "0   13  16   1\n",
      "1    4   4   8\n",
      "2   10  19   5\n",
      "3    7  13   2\n",
      "4    7   8  15\n",
      "5   18   6  14\n",
      "6    9  10  17\n",
      "7    6  16  16\n",
      "8    1  19   4\n",
      "9   18  15   8\n",
      "10   1   2  10\n",
      "11   1  11   4\n",
      "12  12  19   3\n",
      "13   1   1   5\n",
      "14   6   7   9\n",
      "15  18  16   5\n",
      "16  10  11   2\n",
      "17   2   8  10\n",
      "18   4   7  12\n",
      "19  15  19   1\n"
     ]
    }
   ],
   "source": [
    "# Criando o DataFrame com valores aleatórios\n",
    "np.random.seed(0)\n",
    "df = pd.DataFrame(np.random.randint(1, 20, size=(20, 3)), columns=[\"x1\", \"x2\", \"x3\"])\n",
    "\n",
    "print(df)"
   ]
  },
  {
   "cell_type": "markdown",
   "metadata": {},
   "source": [
    "#### 6) No DataFrame do exercício 5, crie uma nova coluna como sendo a média das três colunas, e dê a ela o nome de \"media\" (não recomendo colocar acentos em nomes de variáveis)."
   ]
  },
  {
   "cell_type": "code",
   "execution_count": 45,
   "metadata": {},
   "outputs": [
    {
     "name": "stdout",
     "output_type": "stream",
     "text": [
      "    x1  x2  x3      media\n",
      "1   13  16   1  10.000000\n",
      "2    4   4   8   5.333333\n",
      "3   10  19   5  11.333333\n",
      "4    7  13   2   7.333333\n",
      "5    7   8  15  10.000000\n",
      "6   18   6  14  12.666667\n",
      "7    9  10  17  12.000000\n",
      "8    6  16  16  12.666667\n",
      "9    1  19   4   8.000000\n",
      "10  18  15   8  13.666667\n",
      "11   1   2  10   4.333333\n",
      "12   1  11   4   5.333333\n",
      "13  12  19   3  11.333333\n",
      "14   1   1   5   2.333333\n",
      "15   6   7   9   7.333333\n",
      "16  18  16   5  13.000000\n",
      "17  10  11   2   7.666667\n",
      "18   2   8  10   6.666667\n",
      "19   4   7  12   7.666667\n",
      "20  15  19   1  11.666667\n"
     ]
    }
   ],
   "source": [
    "# Nomeando os índices das linhas de 1 a 20\n",
    "df.index = range(1, 21)\n",
    "\n",
    "# Calculando a média das colunas e criando a nova coluna \"media\"\n",
    "df[\"media\"] = df.mean(axis=1)\n",
    "\n",
    "print(df)"
   ]
  },
  {
   "cell_type": "markdown",
   "metadata": {},
   "source": [
    "#### 7) No DataFrame do exercício 6, crie uma nova coluna chamada \"log_med\", contendo o logaritmo natural da média calculada no exercício 6 <br>"
   ]
  },
  {
   "cell_type": "code",
   "execution_count": 47,
   "metadata": {},
   "outputs": [
    {
     "name": "stdout",
     "output_type": "stream",
     "text": [
      "    x1  x2  x3      media   log_med\n",
      "1   13  16   1  10.000000  2.302585\n",
      "2    4   4   8   5.333333  1.673976\n",
      "3   10  19   5  11.333333  2.427748\n",
      "4    7  13   2   7.333333  1.992430\n",
      "5    7   8  15  10.000000  2.302585\n",
      "6   18   6  14  12.666667  2.538974\n",
      "7    9  10  17  12.000000  2.484907\n",
      "8    6  16  16  12.666667  2.538974\n",
      "9    1  19   4   8.000000  2.079442\n",
      "10  18  15   8  13.666667  2.614960\n",
      "11   1   2  10   4.333333  1.466337\n",
      "12   1  11   4   5.333333  1.673976\n",
      "13  12  19   3  11.333333  2.427748\n",
      "14   1   1   5   2.333333  0.847298\n",
      "15   6   7   9   7.333333  1.992430\n",
      "16  18  16   5  13.000000  2.564949\n",
      "17  10  11   2   7.666667  2.036882\n",
      "18   2   8  10   6.666667  1.897120\n",
      "19   4   7  12   7.666667  2.036882\n",
      "20  15  19   1  11.666667  2.456736\n"
     ]
    }
   ],
   "source": [
    "df[\"log_med\"] = np.log(df[\"media\"])\n",
    "\n",
    "#print(\"\\nDataFrame com as colunas 'media' e 'log_med':\")\n",
    "print(df)"
   ]
  },
  {
   "cell_type": "code",
   "execution_count": null,
   "metadata": {},
   "outputs": [],
   "source": []
  }
 ],
 "metadata": {
  "kernelspec": {
   "display_name": "Python 3 (ipykernel)",
   "language": "python",
   "name": "python3"
  },
  "language_info": {
   "codemirror_mode": {
    "name": "ipython",
    "version": 3
   },
   "file_extension": ".py",
   "mimetype": "text/x-python",
   "name": "python",
   "nbconvert_exporter": "python",
   "pygments_lexer": "ipython3",
   "version": "3.11.7"
  }
 },
 "nbformat": 4,
 "nbformat_minor": 4
}
